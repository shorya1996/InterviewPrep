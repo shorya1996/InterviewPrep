{
 "cells": [
  {
   "cell_type": "markdown",
   "id": "dd1be62e",
   "metadata": {},
   "source": [
    "# Interview preperation "
   ]
  },
  {
   "cell_type": "code",
   "execution_count": 3,
   "id": "033aab89",
   "metadata": {},
   "outputs": [],
   "source": [
    "#1. Anargram Check "
   ]
  },
  {
   "cell_type": "code",
   "execution_count": 18,
   "id": "9930f314",
   "metadata": {},
   "outputs": [],
   "source": [
    "def anagram(string1, string2):\n",
    "    dict1 = {}\n",
    "    for i in string1:\n",
    "        if i in dict1:\n",
    "            dict1[i]+=1\n",
    "        else:\n",
    "            dict1[i]=1\n",
    "    for j in string2:\n",
    "        if j in dict1:\n",
    "            dict1[j]-=1\n",
    "        else:\n",
    "            dict1[j]=1\n",
    "    for k in dict1:\n",
    "        if dict1[k]!=0:\n",
    "            return False\n",
    "    return True"
   ]
  },
  {
   "cell_type": "code",
   "execution_count": 20,
   "id": "86bc34e4",
   "metadata": {},
   "outputs": [
    {
     "data": {
      "text/plain": [
       "True"
      ]
     },
     "execution_count": 20,
     "metadata": {},
     "output_type": "execute_result"
    }
   ],
   "source": [
    "anagram(\"god\", \"dog\")"
   ]
  },
  {
   "cell_type": "code",
   "execution_count": 23,
   "id": "f07870ef",
   "metadata": {},
   "outputs": [],
   "source": [
    "# 2.\n",
    "# Get index (Competency tested: Scripting (any scripting language) )\n",
    "# Given a list of integers, return indices of the two numbers such that they add up to a specific target. You may assume that each input would have exactly one solution, and you may not use the same element twice.\n",
    "# Example:\n",
    "# Given nums = [2, 7, 11, 15], target = 9,\n",
    "# return [0, 1]"
   ]
  },
  {
   "cell_type": "code",
   "execution_count": 37,
   "id": "78b2d2b2",
   "metadata": {},
   "outputs": [],
   "source": [
    "def pair_sum(arr, k):\n",
    "    dict1={}\n",
    "    for i in range(0,len(arr)):\n",
    "        if arr[i] == k:\n",
    "            return i\n",
    "        elif len(dict1)==0:\n",
    "            dict1[arr[i]]=i\n",
    "        else:\n",
    "            for j in dict1:\n",
    "                if arr[i]+j==k:\n",
    "                    return [dict1[j],i]\n",
    "            dict1[arr[i]] = i\n",
    "    return \"No Value\""
   ]
  },
  {
   "cell_type": "code",
   "execution_count": 38,
   "id": "4c1510fc",
   "metadata": {},
   "outputs": [
    {
     "data": {
      "text/plain": [
       "[0, 1]"
      ]
     },
     "execution_count": 38,
     "metadata": {},
     "output_type": "execute_result"
    }
   ],
   "source": [
    "pair_sum([2, 7, 11, 15], 9)"
   ]
  },
  {
   "cell_type": "code",
   "execution_count": 45,
   "id": "7655a5cc",
   "metadata": {},
   "outputs": [
    {
     "data": {
      "text/plain": [
       "[1, 2]"
      ]
     },
     "execution_count": 45,
     "metadata": {},
     "output_type": "execute_result"
    }
   ],
   "source": [
    "pair_sum([3,2,2], 4)"
   ]
  },
  {
   "cell_type": "code",
   "execution_count": 91,
   "id": "5de53121",
   "metadata": {},
   "outputs": [],
   "source": [
    "# Alternative\n",
    "def two_sum(arr,target):\n",
    "    dict1 = dict()\n",
    "    for i in range(0,len(arr)):\n",
    "        if target-arr[i] in dict1:\n",
    "            return [dict1[target-arr[i]], i]\n",
    "        elif arr[i] not in dict1:\n",
    "            dict1[arr[i]] = i  "
   ]
  },
  {
   "cell_type": "code",
   "execution_count": 48,
   "id": "6edbb499",
   "metadata": {},
   "outputs": [],
   "source": [
    "#3. Largest continuous Sum in an array"
   ]
  },
  {
   "cell_type": "code",
   "execution_count": 57,
   "id": "ba0dcaef",
   "metadata": {},
   "outputs": [],
   "source": [
    "def largest_sum(arr):\n",
    "    maxm = arr[0]\n",
    "    current_sum = arr[0]\n",
    "    for i in range(1, len(arr)):\n",
    "        current_sum = max(arr[i], current_sum+arr[i])\n",
    "        maxm = max(current_sum, maxm)\n",
    "        print(current_sum, maxm)\n",
    "    return current_sum, maxm"
   ]
  },
  {
   "cell_type": "code",
   "execution_count": 58,
   "id": "b7ea99b4",
   "metadata": {},
   "outputs": [
    {
     "name": "stdout",
     "output_type": "stream",
     "text": [
      "1 1\n",
      "3 3\n",
      "2 3\n",
      "5 5\n",
      "1 5\n",
      "6 6\n",
      "12 12\n"
     ]
    },
    {
     "data": {
      "text/plain": [
       "(12, 12)"
      ]
     },
     "execution_count": 58,
     "metadata": {},
     "output_type": "execute_result"
    }
   ],
   "source": [
    "largest_sum([0,1,2,-1,3,-4, 5, 6])"
   ]
  },
  {
   "cell_type": "code",
   "execution_count": 59,
   "id": "705c6da4",
   "metadata": {},
   "outputs": [],
   "source": [
    "#4. given a string reverse all the words"
   ]
  },
  {
   "cell_type": "code",
   "execution_count": 63,
   "id": "ad20073d",
   "metadata": {},
   "outputs": [],
   "source": [
    "def reverse(string):\n",
    "    return \" \".join(string.split(\" \")[::-1])"
   ]
  },
  {
   "cell_type": "code",
   "execution_count": 64,
   "id": "234ff8b5",
   "metadata": {},
   "outputs": [
    {
     "data": {
      "text/plain": [
       "'shorya am I Hi'"
      ]
     },
     "execution_count": 64,
     "metadata": {},
     "output_type": "execute_result"
    }
   ],
   "source": [
    "reverse(\"Hi I am shorya\")"
   ]
  },
  {
   "cell_type": "code",
   "execution_count": 65,
   "id": "9cb1e632",
   "metadata": {},
   "outputs": [],
   "source": [
    "#5. String Compression"
   ]
  },
  {
   "cell_type": "code",
   "execution_count": 79,
   "id": "3e900303",
   "metadata": {},
   "outputs": [],
   "source": [
    "def compress(string):\n",
    "    if len(string)==0:\n",
    "        return False\n",
    "    elif len(string)==1:\n",
    "        return string+\"1\"\n",
    "    else:\n",
    "        r=\"\"\n",
    "        i = 1\n",
    "        count=1\n",
    "        while i < len(string):\n",
    "            if string[i]==string[i-1]:\n",
    "                count+=1\n",
    "            else:\n",
    "                r = r+string[i-1]+str(count)\n",
    "                count=1\n",
    "            i+=1\n",
    "        r = r+string[i-1]+str(count)\n",
    "        return r"
   ]
  },
  {
   "cell_type": "code",
   "execution_count": 80,
   "id": "8c8b1633",
   "metadata": {},
   "outputs": [
    {
     "data": {
      "text/plain": [
       "'A4B3C2'"
      ]
     },
     "execution_count": 80,
     "metadata": {},
     "output_type": "execute_result"
    }
   ],
   "source": [
    "compress(\"AAAABBBCC\")"
   ]
  },
  {
   "cell_type": "code",
   "execution_count": 81,
   "id": "780c5108",
   "metadata": {},
   "outputs": [],
   "source": [
    "#6.Balanced Paranthesis"
   ]
  },
  {
   "cell_type": "code",
   "execution_count": 85,
   "id": "fc039e8f",
   "metadata": {},
   "outputs": [],
   "source": [
    "def balanced_check(string):\n",
    "    if len(string)%2!=0:\n",
    "        return False\n",
    "    else:\n",
    "        is_open = set(['{','(', '['])\n",
    "        pair = set([('[',']'),('{','}'),('(',')')])\n",
    "        stack = []\n",
    "        for i in string:\n",
    "            if i in is_open:\n",
    "                stack.append(i)\n",
    "            else:\n",
    "                popped = stack.pop()\n",
    "                if (popped, i) not in pair:\n",
    "                    return False\n",
    "        return True"
   ]
  },
  {
   "cell_type": "code",
   "execution_count": 90,
   "id": "1027800d",
   "metadata": {},
   "outputs": [
    {
     "data": {
      "text/plain": [
       "True"
      ]
     },
     "execution_count": 90,
     "metadata": {},
     "output_type": "execute_result"
    }
   ],
   "source": [
    "balanced_check(\"[({()})]\")"
   ]
  },
  {
   "cell_type": "code",
   "execution_count": 92,
   "id": "0f287379",
   "metadata": {},
   "outputs": [],
   "source": [
    "#7. Longest Substring without repeating a character"
   ]
  },
  {
   "cell_type": "code",
   "execution_count": 204,
   "id": "9f285a16",
   "metadata": {},
   "outputs": [],
   "source": [
    "def longest_substring(string):\n",
    "    unique = list()\n",
    "    dict1 = {}\n",
    "    r = \"\"\n",
    "    for i in string:\n",
    "        if i not in unique:\n",
    "            unique.append(i)\n",
    "            r = r+i\n",
    "        else:\n",
    "            dict1[r]=len(r)\n",
    "            unique = []\n",
    "            unique.append(i)\n",
    "            r = i\n",
    "    dict1[r] = len(r)\n",
    "    maxm = 0\n",
    "    for j in dict1:\n",
    "        if dict1[j]>maxm:\n",
    "            maxm = dict1[j]\n",
    "            longest = j\n",
    "    return longest, maxm"
   ]
  },
  {
   "cell_type": "code",
   "execution_count": 207,
   "id": "6a554669",
   "metadata": {},
   "outputs": [
    {
     "data": {
      "text/plain": [
       "('abcdef', 6)"
      ]
     },
     "execution_count": 207,
     "metadata": {},
     "output_type": "execute_result"
    }
   ],
   "source": [
    "longest_substring(\"abcabcdef\")"
   ]
  },
  {
   "cell_type": "code",
   "execution_count": 184,
   "id": "e1dfd486",
   "metadata": {},
   "outputs": [],
   "source": [
    "#8. Given a nested list, return a flattened list with only the distinct numbers. The output should be a list ordered by the first occurrence of the number."
   ]
  },
  {
   "cell_type": "code",
   "execution_count": 185,
   "id": "54cacf16",
   "metadata": {},
   "outputs": [],
   "source": [
    "num_dict = {}\n",
    "def flatten_dedupe_list(s): \n",
    "    output = []\n",
    "    for x in s:\n",
    "        if isinstance(x, list):\n",
    "            s_sub = flatten_dedupe_list(x)\n",
    "            output.extend(s_sub)\n",
    "        else:\n",
    "            if x in num_dict.keys():\n",
    "                pass\n",
    "            else:\n",
    "                num_dict[x] = 1\n",
    "                output.append(x)\n",
    "    return output"
   ]
  },
  {
   "cell_type": "code",
   "execution_count": 186,
   "id": "de098845",
   "metadata": {},
   "outputs": [
    {
     "data": {
      "text/plain": [
       "[1, 2, 3, 5]"
      ]
     },
     "execution_count": 186,
     "metadata": {},
     "output_type": "execute_result"
    }
   ],
   "source": [
    "flatten_dedupe_list([[1,2,3], [2,3,5]])"
   ]
  },
  {
   "cell_type": "code",
   "execution_count": 218,
   "id": "fb277c71",
   "metadata": {},
   "outputs": [
    {
     "name": "stdout",
     "output_type": "stream",
     "text": [
      "Longest palindrome substring is: geeksskeeg\n",
      "Length is: 10\n"
     ]
    }
   ],
   "source": [
    "#9. longest palindromic substring\n",
    "def longestPalSubstr(string):\n",
    "    n = len(string) # calculating size of string\n",
    "    if (n < 2):\n",
    "        return n # if string is empty then size will be 0.\n",
    "    # if n==1 then, answer will be 1(single\n",
    "    # character will always palindrome)\n",
    "    start=0\n",
    "    maxLength = 1\n",
    "    for i in range(n):\n",
    "        low = i - 1\n",
    "        high = i + 1\n",
    "        while (high < n and string[high] == string[i] ):\t\t\t\t\t\t\t\n",
    "            high=high+1\n",
    "        while (low >= 0 and string[low] == string[i] ):\n",
    "            low=low-1\n",
    "\t\n",
    "        while (low >= 0 and high < n and string[low] == string[high] ):\n",
    "            low=low-1\n",
    "            high=high+1\n",
    "        length = high - low - 1\n",
    "        if (maxLength < length):\n",
    "            maxLength = length\n",
    "            start=low+1\n",
    "    print (\"Longest palindrome substring is:\",end=\" \")\n",
    "    print (string[start:start + maxLength])\n",
    "    return maxLength\n",
    "\t\n",
    "# Driver program to test above functions\n",
    "string = (\"forgeeksskeegfor\")\n",
    "print(\"Length is: \" + str(longestPalSubstr(string)))\n",
    "\n",
    "#This is code is contributed by saurabh yadav\n"
   ]
  },
  {
   "cell_type": "code",
   "execution_count": 219,
   "id": "69b4552a",
   "metadata": {},
   "outputs": [],
   "source": [
    "# 10. Container with most water \n",
    "def maxArea(A, Len) :\n",
    "    area = 0\n",
    "    for i in range(Len) :\n",
    "        for j in range(i + 1, Len) :\n",
    "           \n",
    "            # Calculating the max area\n",
    "            area = max(area, min(A[j], A[i]) * (j - i))\n",
    "    return area"
   ]
  },
  {
   "cell_type": "code",
   "execution_count": null,
   "id": "4f3a30ea",
   "metadata": {},
   "outputs": [],
   "source": []
  }
 ],
 "metadata": {
  "kernelspec": {
   "display_name": "Python 3",
   "language": "python",
   "name": "python3"
  },
  "language_info": {
   "codemirror_mode": {
    "name": "ipython",
    "version": 3
   },
   "file_extension": ".py",
   "mimetype": "text/x-python",
   "name": "python",
   "nbconvert_exporter": "python",
   "pygments_lexer": "ipython3",
   "version": "3.8.8"
  }
 },
 "nbformat": 4,
 "nbformat_minor": 5
}
