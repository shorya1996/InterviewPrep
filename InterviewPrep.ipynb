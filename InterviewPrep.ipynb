{
 "cells": [
  {
   "cell_type": "markdown",
   "id": "dd1be62e",
   "metadata": {},
   "source": [
    "# Interview preperation "
   ]
  },
  {
   "cell_type": "markdown",
   "id": "a129cfc0",
   "metadata": {},
   "source": [
    "#1. Anargram Check "
   ]
  },
  {
   "cell_type": "code",
   "execution_count": 18,
   "id": "9930f314",
   "metadata": {},
   "outputs": [],
   "source": [
    "def anagram(string1, string2):\n",
    "    dict1 = {}\n",
    "    for i in string1:\n",
    "        if i in dict1:\n",
    "            dict1[i]+=1\n",
    "        else:\n",
    "            dict1[i]=1\n",
    "    for j in string2:\n",
    "        if j in dict1:\n",
    "            dict1[j]-=1\n",
    "        else:\n",
    "            dict1[j]=1\n",
    "    for k in dict1:\n",
    "        if dict1[k]!=0:\n",
    "            return False\n",
    "    return True"
   ]
  },
  {
   "cell_type": "code",
   "execution_count": 20,
   "id": "86bc34e4",
   "metadata": {},
   "outputs": [
    {
     "data": {
      "text/plain": [
       "True"
      ]
     },
     "execution_count": 20,
     "metadata": {},
     "output_type": "execute_result"
    }
   ],
   "source": [
    "anagram(\"god\", \"dog\")"
   ]
  },
  {
   "cell_type": "markdown",
   "id": "7c0c5389",
   "metadata": {},
   "source": [
    "2.\n",
    "Get index (Competency tested: Scripting (any scripting language) )\n",
    "Given a list of integers, return indices of the two numbers such that they add up to a specific target. You may assume that each input would have exactly one solution, and you may not use the same element twice.\n",
    "Example:\n",
    "Given nums = [2, 7, 11, 15], target = 9,\n",
    "return [0, 1]"
   ]
  },
  {
   "cell_type": "code",
   "execution_count": 37,
   "id": "78b2d2b2",
   "metadata": {},
   "outputs": [],
   "source": [
    "def pair_sum(arr, k):\n",
    "    dict1={}\n",
    "    for i in range(0,len(arr)):\n",
    "        if arr[i] == k:\n",
    "            return i\n",
    "        elif len(dict1)==0:\n",
    "            dict1[arr[i]]=i\n",
    "        else:\n",
    "            for j in dict1:\n",
    "                if arr[i]+j==k:\n",
    "                    return [dict1[j],i]\n",
    "            dict1[arr[i]] = i\n",
    "    return \"No Value\""
   ]
  },
  {
   "cell_type": "code",
   "execution_count": 38,
   "id": "4c1510fc",
   "metadata": {},
   "outputs": [
    {
     "data": {
      "text/plain": [
       "[0, 1]"
      ]
     },
     "execution_count": 38,
     "metadata": {},
     "output_type": "execute_result"
    }
   ],
   "source": [
    "pair_sum([2, 7, 11, 15], 9)"
   ]
  },
  {
   "cell_type": "code",
   "execution_count": 45,
   "id": "7655a5cc",
   "metadata": {},
   "outputs": [
    {
     "data": {
      "text/plain": [
       "[1, 2]"
      ]
     },
     "execution_count": 45,
     "metadata": {},
     "output_type": "execute_result"
    }
   ],
   "source": [
    "pair_sum([3,2,2], 4)"
   ]
  },
  {
   "cell_type": "code",
   "execution_count": 91,
   "id": "5de53121",
   "metadata": {},
   "outputs": [],
   "source": [
    "# Alternative\n",
    "def two_sum(arr,target):\n",
    "    dict1 = dict()\n",
    "    for i in range(0,len(arr)):\n",
    "        if target-arr[i] in dict1:\n",
    "            return [dict1[target-arr[i]], i]\n",
    "        elif arr[i] not in dict1:\n",
    "            dict1[arr[i]] = i  "
   ]
  },
  {
   "cell_type": "markdown",
   "id": "ef0d67eb",
   "metadata": {},
   "source": [
    "3. Largest continuous Sum in an array"
   ]
  },
  {
   "cell_type": "code",
   "execution_count": 57,
   "id": "ba0dcaef",
   "metadata": {},
   "outputs": [],
   "source": [
    "def largest_sum(arr):\n",
    "    maxm = arr[0]\n",
    "    current_sum = arr[0]\n",
    "    for i in range(1, len(arr)):\n",
    "        current_sum = max(arr[i], current_sum+arr[i])\n",
    "        maxm = max(current_sum, maxm)\n",
    "        print(current_sum, maxm)\n",
    "    return current_sum, maxm"
   ]
  },
  {
   "cell_type": "code",
   "execution_count": 58,
   "id": "b7ea99b4",
   "metadata": {},
   "outputs": [
    {
     "name": "stdout",
     "output_type": "stream",
     "text": [
      "1 1\n",
      "3 3\n",
      "2 3\n",
      "5 5\n",
      "1 5\n",
      "6 6\n",
      "12 12\n"
     ]
    },
    {
     "data": {
      "text/plain": [
       "(12, 12)"
      ]
     },
     "execution_count": 58,
     "metadata": {},
     "output_type": "execute_result"
    }
   ],
   "source": [
    "largest_sum([0,1,2,-1,3,-4, 5, 6])"
   ]
  },
  {
   "cell_type": "markdown",
   "id": "41e211f1",
   "metadata": {},
   "source": [
    "given a string reverse all the words"
   ]
  },
  {
   "cell_type": "code",
   "execution_count": 63,
   "id": "ad20073d",
   "metadata": {},
   "outputs": [],
   "source": [
    "def reverse(string):\n",
    "    return \" \".join(string.split(\" \")[::-1])"
   ]
  },
  {
   "cell_type": "code",
   "execution_count": 64,
   "id": "234ff8b5",
   "metadata": {},
   "outputs": [
    {
     "data": {
      "text/plain": [
       "'shorya am I Hi'"
      ]
     },
     "execution_count": 64,
     "metadata": {},
     "output_type": "execute_result"
    }
   ],
   "source": [
    "reverse(\"Hi I am shorya\")"
   ]
  },
  {
   "cell_type": "markdown",
   "id": "1bbe8490",
   "metadata": {},
   "source": [
    "String Compression"
   ]
  },
  {
   "cell_type": "code",
   "execution_count": 79,
   "id": "3e900303",
   "metadata": {},
   "outputs": [],
   "source": [
    "def compress(string):\n",
    "    if len(string)==0:\n",
    "        return False\n",
    "    elif len(string)==1:\n",
    "        return string+\"1\"\n",
    "    else:\n",
    "        r=\"\"\n",
    "        i = 1\n",
    "        count=1\n",
    "        while i < len(string):\n",
    "            if string[i]==string[i-1]:\n",
    "                count+=1\n",
    "            else:\n",
    "                r = r+string[i-1]+str(count)\n",
    "                count=1\n",
    "            i+=1\n",
    "        r = r+string[i-1]+str(count)\n",
    "        return r"
   ]
  },
  {
   "cell_type": "code",
   "execution_count": 80,
   "id": "8c8b1633",
   "metadata": {},
   "outputs": [
    {
     "data": {
      "text/plain": [
       "'A4B3C2'"
      ]
     },
     "execution_count": 80,
     "metadata": {},
     "output_type": "execute_result"
    }
   ],
   "source": [
    "compress(\"AAAABBBCC\")"
   ]
  },
  {
   "cell_type": "markdown",
   "id": "15121584",
   "metadata": {},
   "source": [
    "Balanced Paranthesis"
   ]
  },
  {
   "cell_type": "code",
   "execution_count": 85,
   "id": "fc039e8f",
   "metadata": {},
   "outputs": [],
   "source": [
    "def balanced_check(string):\n",
    "    if len(string)%2!=0:\n",
    "        return False\n",
    "    else:\n",
    "        is_open = set(['{','(', '['])\n",
    "        pair = set([('[',']'),('{','}'),('(',')')])\n",
    "        stack = []\n",
    "        for i in string:\n",
    "            if i in is_open:\n",
    "                stack.append(i)\n",
    "            else:\n",
    "                popped = stack.pop()\n",
    "                if (popped, i) not in pair:\n",
    "                    return False\n",
    "        return True"
   ]
  },
  {
   "cell_type": "code",
   "execution_count": 90,
   "id": "1027800d",
   "metadata": {},
   "outputs": [
    {
     "data": {
      "text/plain": [
       "True"
      ]
     },
     "execution_count": 90,
     "metadata": {},
     "output_type": "execute_result"
    }
   ],
   "source": [
    "balanced_check(\"[({()})]\")"
   ]
  },
  {
   "cell_type": "markdown",
   "id": "c57bd29b",
   "metadata": {},
   "source": [
    "#7. Longest Substring without repeating a character"
   ]
  },
  {
   "cell_type": "code",
   "execution_count": 204,
   "id": "9f285a16",
   "metadata": {},
   "outputs": [],
   "source": [
    "def longest_substring(string):\n",
    "    unique = list()\n",
    "    dict1 = {}\n",
    "    r = \"\"\n",
    "    for i in string:\n",
    "        if i not in unique:\n",
    "            unique.append(i)\n",
    "            r = r+i\n",
    "        else:\n",
    "            dict1[r]=len(r)\n",
    "            unique = []\n",
    "            unique.append(i)\n",
    "            r = i\n",
    "    dict1[r] = len(r)\n",
    "    maxm = 0\n",
    "    for j in dict1:\n",
    "        if dict1[j]>maxm:\n",
    "            maxm = dict1[j]\n",
    "            longest = j\n",
    "    return longest, maxm"
   ]
  },
  {
   "cell_type": "code",
   "execution_count": 207,
   "id": "6a554669",
   "metadata": {},
   "outputs": [
    {
     "data": {
      "text/plain": [
       "('abcdef', 6)"
      ]
     },
     "execution_count": 207,
     "metadata": {},
     "output_type": "execute_result"
    }
   ],
   "source": [
    "longest_substring(\"abcabcdef\")"
   ]
  },
  {
   "cell_type": "markdown",
   "id": "8d2090b4",
   "metadata": {},
   "source": [
    "Given a nested list, return a flattened list with only the distinct numbers. The output should be a list ordered by the first occurrence of the number."
   ]
  },
  {
   "cell_type": "code",
   "execution_count": 185,
   "id": "54cacf16",
   "metadata": {},
   "outputs": [],
   "source": [
    "num_dict = {}\n",
    "def flatten_dedupe_list(s): \n",
    "    output = []\n",
    "    for x in s:\n",
    "        if isinstance(x, list):\n",
    "            s_sub = flatten_dedupe_list(x)\n",
    "            output.extend(s_sub)\n",
    "        else:\n",
    "            if x in num_dict.keys():\n",
    "                pass\n",
    "            else:\n",
    "                num_dict[x] = 1\n",
    "                output.append(x)\n",
    "    return output"
   ]
  },
  {
   "cell_type": "code",
   "execution_count": 186,
   "id": "de098845",
   "metadata": {},
   "outputs": [
    {
     "data": {
      "text/plain": [
       "[1, 2, 3, 5]"
      ]
     },
     "execution_count": 186,
     "metadata": {},
     "output_type": "execute_result"
    }
   ],
   "source": [
    "flatten_dedupe_list([[1,2,3], [2,3,5]])"
   ]
  },
  {
   "cell_type": "code",
   "execution_count": 218,
   "id": "fb277c71",
   "metadata": {},
   "outputs": [
    {
     "name": "stdout",
     "output_type": "stream",
     "text": [
      "Longest palindrome substring is: geeksskeeg\n",
      "Length is: 10\n"
     ]
    }
   ],
   "source": [
    "#9. longest palindromic substring\n",
    "def longestPalSubstr(string):\n",
    "    n = len(string) # calculating size of string\n",
    "    if (n < 2):\n",
    "        return n # if string is empty then size will be 0.\n",
    "    # if n==1 then, answer will be 1(single\n",
    "    # character will always palindrome)\n",
    "    start=0\n",
    "    maxLength = 1\n",
    "    for i in range(n):\n",
    "        low = i - 1\n",
    "        high = i + 1\n",
    "        while (high < n and string[high] == string[i] ):\t\t\t\t\t\t\t\n",
    "            high=high+1\n",
    "        while (low >= 0 and string[low] == string[i] ):\n",
    "            low=low-1\n",
    "\t\n",
    "        while (low >= 0 and high < n and string[low] == string[high] ):\n",
    "            low=low-1\n",
    "            high=high+1\n",
    "        length = high - low - 1\n",
    "        if (maxLength < length):\n",
    "            maxLength = length\n",
    "            start=low+1\n",
    "    print (\"Longest palindrome substring is:\",end=\" \")\n",
    "    print (string[start:start + maxLength])\n",
    "    return maxLength\n",
    "\t\n",
    "# Driver program to test above functions\n",
    "string = (\"forgeeksskeegfor\")\n",
    "print(\"Length is: \" + str(longestPalSubstr(string)))\n",
    "\n",
    "#This is code is contributed by saurabh yadav\n"
   ]
  },
  {
   "cell_type": "code",
   "execution_count": 219,
   "id": "69b4552a",
   "metadata": {},
   "outputs": [],
   "source": [
    "# 10. Container with most water \n",
    "def maxArea(A, Len) :\n",
    "    area = 0\n",
    "    for i in range(Len) :\n",
    "        for j in range(i + 1, Len) :\n",
    "           \n",
    "            # Calculating the max area\n",
    "            area = max(area, min(A[j], A[i]) * (j - i))\n",
    "    return area"
   ]
  },
  {
   "cell_type": "markdown",
   "id": "6e57e209",
   "metadata": {},
   "source": [
    "\"\"\"\n",
    "There are N people, numbered from 0 to N-1, playing a game. The K-th person is assigned the letter S[K].\n",
    "* At the beginning the 0th person sends a message, consisting of a single letter S[0], to the A[O]-th person.\n",
    "* When the K-th person receives the message, they append their letter S[K] to the message and forward it to A[K].\n",
    "* The game ends when the oth person receives the message. Find the final message.\n",
    "* You can assume that A contains every integer from 0 to N-1 exactly once.\n",
    "* Write a function: def solution(S, A) that given a string S and an array of\n",
    "* integers A, both of length N, returns a string denoting the final message received by the Oth person.\n",
    "\n",
    "*\n",
    "* Examples:\n",
    "* 1. Given S = \"cdeo\" and A = [3, 2, 0, 1], your function should returns \"code\".\n",
    "\"\"\""
   ]
  },
  {
   "cell_type": "code",
   "execution_count": 2,
   "id": "8a0c7b80",
   "metadata": {},
   "outputs": [],
   "source": [
    "def game(S,A):\n",
    "    finalMessage = S[0]\n",
    "    destination = A[0]\n",
    "    while destination !=0:\n",
    "        finalMessage +=S[destination]\n",
    "        destination = A[destination]\n",
    "    return finalMessage"
   ]
  },
  {
   "cell_type": "code",
   "execution_count": 3,
   "id": "874795cc",
   "metadata": {},
   "outputs": [
    {
     "data": {
      "text/plain": [
       "'code'"
      ]
     },
     "execution_count": 3,
     "metadata": {},
     "output_type": "execute_result"
    }
   ],
   "source": [
    "game(\"cdeo\", [3, 2, 0, 1])"
   ]
  },
  {
   "cell_type": "markdown",
   "id": "12a333fb",
   "metadata": {},
   "source": [
    "Merge Sort"
   ]
  },
  {
   "cell_type": "code",
   "execution_count": 6,
   "id": "af8153df",
   "metadata": {},
   "outputs": [],
   "source": [
    "def merge_sort(inp_arr):\n",
    "    size = len(inp_arr)\n",
    "    if size > 1:\n",
    "        middle = size // 2\n",
    "        left_arr = inp_arr[:middle]\n",
    "        right_arr = inp_arr[middle:]\n",
    " \n",
    "        merge_sort(left_arr)\n",
    "        merge_sort(right_arr)\n",
    " \n",
    "        p = 0\n",
    "        q = 0\n",
    "        r = 0\n",
    " \n",
    "        left_size = len(left_arr)\n",
    "        right_size = len(right_arr)\n",
    "        while p < left_size and q < right_size:\n",
    "            if left_arr[p] < right_arr[q]:\n",
    "                inp_arr[r] = left_arr[p]\n",
    "                p += 1\n",
    "            else:\n",
    "                inp_arr[r] = right_arr[q]\n",
    "                q += 1\n",
    "            r += 1\n",
    "        while p < left_size:\n",
    "            inp_arr[r] = left_arr[p]\n",
    "            p += 1\n",
    "            r += 1\n",
    " \n",
    "        while q < right_size:\n",
    "            inp_arr[r]=right_arr[q]\n",
    "            q += 1\n",
    "            r += 1\n",
    "    return arr"
   ]
  },
  {
   "cell_type": "code",
   "execution_count": 7,
   "id": "77a4fb22",
   "metadata": {},
   "outputs": [
    {
     "data": {
      "text/plain": [
       "[0, 1, 2, 5, 7, 8]"
      ]
     },
     "execution_count": 7,
     "metadata": {},
     "output_type": "execute_result"
    }
   ],
   "source": [
    "arr = [1,2,0,5,8,7]\n",
    "merge_sort(arr)"
   ]
  },
  {
   "cell_type": "markdown",
   "id": "ce6617ec",
   "metadata": {},
   "source": [
    "Input: arr[] = {1, 2, 4, 6, 3, 7, 8}\n",
    "Output: 5\n",
    "Explanation: The missing number from 1 to 8 is 5"
   ]
  },
  {
   "cell_type": "code",
   "execution_count": 44,
   "id": "e2c298fa",
   "metadata": {},
   "outputs": [],
   "source": [
    "def missing(arr):\n",
    "    summ = 0\n",
    "    n=len(arr)\n",
    "    total_sum = (n + 1)*(n + 2)/2\n",
    "    for i in arr:\n",
    "        summ = summ+i\n",
    "    mis = total_sum-summ\n",
    "    return mis"
   ]
  },
  {
   "cell_type": "code",
   "execution_count": 45,
   "id": "de7075fc",
   "metadata": {},
   "outputs": [
    {
     "data": {
      "text/plain": [
       "5.0"
      ]
     },
     "execution_count": 45,
     "metadata": {},
     "output_type": "execute_result"
    }
   ],
   "source": [
    "missing([1,2,4,6,3,7,8])"
   ]
  },
  {
   "cell_type": "raw",
   "id": "1ba9882f",
   "metadata": {},
   "source": [
    "Create a dataframe with movie_id and price and ticket_id.\n",
    "find the total tickets sold for a movie \n",
    "group movies with same price\n",
    "\n",
    "movie_id price ticket_id\n",
    "1 500 123\n",
    "1 500 124\n",
    "2 650 400\n",
    "3 500 132"
   ]
  },
  {
   "cell_type": "code",
   "execution_count": 49,
   "id": "935e1642",
   "metadata": {},
   "outputs": [
    {
     "data": {
      "text/plain": [
       "'C:\\\\spark3'"
      ]
     },
     "execution_count": 49,
     "metadata": {},
     "output_type": "execute_result"
    }
   ],
   "source": [
    "import os\n",
    "import sys\n",
    "import glob\n",
    "os.environ['SPARK_HOME'] = 'C:\\spark3'\n",
    "os.environ['JAVA_HOME'] = 'C:\\Program Files\\Java\\jdk1.8.0_231'\n",
    "os.environ['HADOOP_HOME'] = 'C:\\spark3'\n",
    "spark_python = os.path.join(os.environ.get('SPARK_HOME',None),'python')\n",
    "py4j = glob.glob(os.path.join(spark_python,'lib','py4j-*.zip'))[0]\n",
    "sys.path[:0]=[spark_python,py4j]\n",
    "os.environ['PYTHONPATH']=py4j\n",
    "import findspark\n",
    "findspark.init()\n",
    "findspark.find()"
   ]
  },
  {
   "cell_type": "code",
   "execution_count": 50,
   "id": "3ded00c7",
   "metadata": {},
   "outputs": [],
   "source": [
    "from pyspark.sql import SparkSession\n",
    "spark = SparkSession.builder.appName(\"Movie analysis\").getOrCreate()"
   ]
  },
  {
   "cell_type": "code",
   "execution_count": 51,
   "id": "b71ec8a7",
   "metadata": {},
   "outputs": [],
   "source": [
    "df = spark.createDataFrame([[1,500,123], [1,500,124], [2,650,400], [3,500,132]], [\"movie_id\", \"price\", \"ticket_id\"])"
   ]
  },
  {
   "cell_type": "code",
   "execution_count": 52,
   "id": "6e375c86",
   "metadata": {},
   "outputs": [
    {
     "name": "stdout",
     "output_type": "stream",
     "text": [
      "+--------+-----+---------+\n",
      "|movie_id|price|ticket_id|\n",
      "+--------+-----+---------+\n",
      "|       1|  500|      123|\n",
      "|       1|  500|      124|\n",
      "|       2|  650|      400|\n",
      "|       3|  500|      132|\n",
      "+--------+-----+---------+\n",
      "\n"
     ]
    }
   ],
   "source": [
    "df.show()"
   ]
  },
  {
   "cell_type": "code",
   "execution_count": 65,
   "id": "1e72fc2d",
   "metadata": {},
   "outputs": [],
   "source": [
    "from pyspark.sql.functions import *\n",
    "df_sold = df.groupBy(\"movie_id\").agg(count(\"movie_id\").alias(\"tickets_sold\")).orderBy([col(\"tickets_sold\").desc()])"
   ]
  },
  {
   "cell_type": "code",
   "execution_count": 66,
   "id": "0f449138",
   "metadata": {},
   "outputs": [
    {
     "name": "stdout",
     "output_type": "stream",
     "text": [
      "+--------+------------+\n",
      "|movie_id|tickets_sold|\n",
      "+--------+------------+\n",
      "|       1|           2|\n",
      "|       3|           1|\n",
      "|       2|           1|\n",
      "+--------+------------+\n",
      "\n"
     ]
    }
   ],
   "source": [
    "df_sold.show()"
   ]
  },
  {
   "cell_type": "code",
   "execution_count": 74,
   "id": "f0384407",
   "metadata": {},
   "outputs": [],
   "source": [
    "df_movies_with_same_price = df.groupBy(\"price\").agg(collect_list(\"movie_id\").alias(\"movies\"))"
   ]
  },
  {
   "cell_type": "code",
   "execution_count": 75,
   "id": "5f7662da",
   "metadata": {},
   "outputs": [
    {
     "name": "stdout",
     "output_type": "stream",
     "text": [
      "+-----+---------+\n",
      "|price|   movies|\n",
      "+-----+---------+\n",
      "|  650|      [2]|\n",
      "|  500|[1, 1, 3]|\n",
      "+-----+---------+\n",
      "\n"
     ]
    }
   ],
   "source": [
    "df_movies_with_same_price.show()"
   ]
  },
  {
   "cell_type": "code",
   "execution_count": null,
   "id": "c82163a4",
   "metadata": {},
   "outputs": [],
   "source": []
  }
 ],
 "metadata": {
  "kernelspec": {
   "display_name": "Python 3",
   "language": "python",
   "name": "python3"
  },
  "language_info": {
   "codemirror_mode": {
    "name": "ipython",
    "version": 3
   },
   "file_extension": ".py",
   "mimetype": "text/x-python",
   "name": "python",
   "nbconvert_exporter": "python",
   "pygments_lexer": "ipython3",
   "version": "3.8.8"
  }
 },
 "nbformat": 4,
 "nbformat_minor": 5
}
