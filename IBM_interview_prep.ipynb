{
 "cells": [
  {
   "cell_type": "markdown",
   "id": "1d812b94",
   "metadata": {},
   "source": [
    "# Anagram_check"
   ]
  },
  {
   "cell_type": "code",
   "execution_count": null,
   "id": "a1f6c260",
   "metadata": {},
   "outputs": [],
   "source": [
    "def check_anagram(str1,str2):\n",
    "    if sorted(str1) == sorted(str2):\n",
    "        print(\"true\")\n",
    "    else:\n",
    "        print(\"false\")"
   ]
  },
  {
   "cell_type": "code",
   "execution_count": null,
   "id": "e6107965",
   "metadata": {},
   "outputs": [],
   "source": [
    "str1,str2=input(\"enter two strings:\").split()\n",
    "check_anagram(str1,str2)"
   ]
  },
  {
   "cell_type": "markdown",
   "id": "0de7dfe6",
   "metadata": {},
   "source": [
    "# Missing element from an array"
   ]
  },
  {
   "cell_type": "code",
   "execution_count": null,
   "id": "ab881162",
   "metadata": {},
   "outputs": [],
   "source": [
    "arr1 = [1,2,3,4,5]\n",
    "arr2 = [1,3,4,5,6]"
   ]
  },
  {
   "cell_type": "code",
   "execution_count": null,
   "id": "57c52235",
   "metadata": {},
   "outputs": [],
   "source": [
    "arr1.sort()\n",
    "arr2.sort()\n",
    "print(arr1, arr2)\n",
    "for i,j in zip(arr1,arr2):\n",
    "    if i!=j:\n",
    "        print(\"mising: \",i)\n",
    "    else:\n",
    "        print(arr1[-1])"
   ]
  },
  {
   "cell_type": "markdown",
   "id": "c7dc4509",
   "metadata": {},
   "source": [
    "# largest continuos sum "
   ]
  },
  {
   "cell_type": "code",
   "execution_count": null,
   "id": "105be568",
   "metadata": {},
   "outputs": [],
   "source": [
    "arr1 = [1,3,-1,3,4,10,10,-10,-1]"
   ]
  },
  {
   "cell_type": "code",
   "execution_count": null,
   "id": "60989b20",
   "metadata": {},
   "outputs": [],
   "source": [
    "def check_largest_sum(arr):\n",
    "    l = len(arr)\n",
    "    print(l)\n",
    "    if l < 1:\n",
    "        return \"null\"\n",
    "    if l==1:\n",
    "        return arr[0]\n",
    "    i = 1\n",
    "    max_sum = current_sum = arr[0]\n",
    "    while i<l:\n",
    "        current_sum = max(arr[i], current_sum+arr[i])\n",
    "        max_sum = max(max_sum, current_sum)\n",
    "        i=i+1\n",
    "    return max_sum"
   ]
  },
  {
   "cell_type": "code",
   "execution_count": null,
   "id": "5bb7d421",
   "metadata": {},
   "outputs": [],
   "source": [
    "print(check_largest_sum(arr1))"
   ]
  },
  {
   "cell_type": "markdown",
   "id": "9be2ca43",
   "metadata": {},
   "source": [
    "# string reversal"
   ]
  },
  {
   "cell_type": "code",
   "execution_count": null,
   "id": "6b7ab20a",
   "metadata": {},
   "outputs": [],
   "source": [
    "str1 = input(\"enter a string to reverse: \")\n",
    "str1 = str1.split()[::-1]\n",
    "str1 = [x[::-1] for x in str1]\n",
    "str2 = \" \".join(str1)"
   ]
  },
  {
   "cell_type": "markdown",
   "id": "0507c759",
   "metadata": {},
   "source": [
    "# string compression"
   ]
  },
  {
   "cell_type": "code",
   "execution_count": null,
   "id": "6a46118a",
   "metadata": {},
   "outputs": [],
   "source": [
    "def compress(str1):\n",
    "    if len(str1)==1:\n",
    "        return str1+1\n",
    "    compress=''\n",
    "    i=1\n",
    "    count = 1\n",
    "    while i<len(str1):\n",
    "        if str1[i] == str1[i-1]:\n",
    "            count+=1\n",
    "        else:\n",
    "            compress = compress+str1[i-1]+str(count)\n",
    "            count = 1\n",
    "        i+=1\n",
    "    compress = compress+str1[i-1]+str(count)\n",
    "    return compress\n",
    "print(compress(\"AABBBCCCC\"))"
   ]
  },
  {
   "cell_type": "markdown",
   "id": "49647c0d",
   "metadata": {},
   "source": [
    "# Unique character in a string"
   ]
  },
  {
   "cell_type": "code",
   "execution_count": null,
   "id": "7a104468",
   "metadata": {},
   "outputs": [],
   "source": [
    "def unique(str1):\n",
    "    return len(set(str1))==len(str1)\n",
    "print(unique(\"abcde\"))"
   ]
  },
  {
   "cell_type": "markdown",
   "id": "29b41ba9",
   "metadata": {},
   "source": [
    "# Balanced Paranthesis"
   ]
  },
  {
   "cell_type": "code",
   "execution_count": null,
   "id": "7ec096c2",
   "metadata": {},
   "outputs": [],
   "source": [
    "def check_balance(str1):\n",
    "    l = len(str1)\n",
    "    if l%2!=0:\n",
    "        return \"invalid\"\n",
    "    set_of_paranthesis = set('[{(')\n",
    "    combination = set([(\"{\",\"}\"),(\"(\",\")\"),(\"[\",\"]\")])\n",
    "    stack = []\n",
    "    for i in str1:\n",
    "        if i in set_of_paranthesis:\n",
    "            stack.append(i)\n",
    "        else:\n",
    "            last_open = stack.pop()\n",
    "            if (last_open,i) not in combination:\n",
    "                return False\n",
    "    return len(stack)==0"
   ]
  },
  {
   "cell_type": "code",
   "execution_count": null,
   "id": "5ce3de80",
   "metadata": {},
   "outputs": [],
   "source": [
    "print(check_balance(\"[[({}))]\"))"
   ]
  },
  {
   "cell_type": "markdown",
   "id": "6561483f",
   "metadata": {},
   "source": [
    "# Recursion "
   ]
  },
  {
   "cell_type": "code",
   "execution_count": 2,
   "id": "990ff8fb",
   "metadata": {},
   "outputs": [
    {
     "name": "stdout",
     "output_type": "stream",
     "text": [
      "120\n"
     ]
    }
   ],
   "source": [
    "#factorial \n",
    "def fact(num):\n",
    "    if num==0:\n",
    "        return 1\n",
    "    else:\n",
    "        return num*fact(num-1)\n",
    "print(fact(5))"
   ]
  },
  {
   "cell_type": "code",
   "execution_count": 3,
   "id": "69079eb5",
   "metadata": {},
   "outputs": [
    {
     "name": "stdout",
     "output_type": "stream",
     "text": [
      "10\n"
     ]
    }
   ],
   "source": [
    "#sum of numbers , for 4 : 4+3+2+1+0\n",
    "def rec_sum(num):\n",
    "    if num==0:\n",
    "        return 0\n",
    "    else:\n",
    "        return num+rec_sum(num-1)\n",
    "print(rec_sum(4))"
   ]
  },
  {
   "cell_type": "code",
   "execution_count": 4,
   "id": "66a29a29",
   "metadata": {},
   "outputs": [],
   "source": [
    "#n = 4321 = 4+3+2+1"
   ]
  },
  {
   "cell_type": "code",
   "execution_count": 5,
   "id": "5baa4420",
   "metadata": {},
   "outputs": [
    {
     "name": "stdout",
     "output_type": "stream",
     "text": [
      "10\n"
     ]
    }
   ],
   "source": [
    "#without recursion method 1\n",
    "def sumOfDigits(num):\n",
    "    s = 0\n",
    "    for i in num:\n",
    "        s = s + int(i)\n",
    "    return s\n",
    "print(sumOfDigits('4321'))"
   ]
  },
  {
   "cell_type": "code",
   "execution_count": 10,
   "id": "2d4d0138",
   "metadata": {},
   "outputs": [
    {
     "name": "stdout",
     "output_type": "stream",
     "text": [
      "10\n"
     ]
    }
   ],
   "source": [
    "#without recursion method 2\n",
    "def sumOfDigits(num):\n",
    "    s = 0\n",
    "    while num != 0:\n",
    "        s = s + num%10\n",
    "        num = num//10\n",
    "    return s\n",
    "print(sumOfDigits(4321))"
   ]
  },
  {
   "cell_type": "code",
   "execution_count": 17,
   "id": "c045a32d",
   "metadata": {},
   "outputs": [
    {
     "name": "stdout",
     "output_type": "stream",
     "text": [
      "10\n"
     ]
    }
   ],
   "source": [
    "#with recursion \n",
    "def sumOfDigits(num):\n",
    "    if len(str(num)) == 1:\n",
    "        return num\n",
    "    else:\n",
    "        return num%10+sumOfDigits(num//10)\n",
    "print(sumOfDigits(4321))"
   ]
  },
  {
   "cell_type": "markdown",
   "id": "1d1eee25",
   "metadata": {},
   "source": [
    "# Binary Search : for sorted elemets "
   ]
  },
  {
   "cell_type": "code",
   "execution_count": 8,
   "id": "6930cc11",
   "metadata": {},
   "outputs": [
    {
     "name": "stdout",
     "output_type": "stream",
     "text": [
      "5\n"
     ]
    }
   ],
   "source": [
    "def binary_search(arr,num):\n",
    "    l = len(arr)\n",
    "    start = 0\n",
    "    end = l-1\n",
    "    while start<=end:\n",
    "        mid = (start+end)//2\n",
    "        if arr[mid] == num:\n",
    "            return mid\n",
    "        elif arr[mid]<num:\n",
    "            start = mid+1\n",
    "        else:\n",
    "            end = mid-1\n",
    "    return -1\n",
    "print(binary_search([1, 2, 3, 4, 5, 6],6))"
   ]
  },
  {
   "cell_type": "markdown",
   "id": "7e2ac245",
   "metadata": {},
   "source": [
    "# sliding window probem"
   ]
  },
  {
   "cell_type": "code",
   "execution_count": 26,
   "id": "076b3b20",
   "metadata": {},
   "outputs": [
    {
     "name": "stdout",
     "output_type": "stream",
     "text": [
      "104\n"
     ]
    }
   ],
   "source": [
    "def maxSum(arr, windowSize):\n",
    "    arraySize = len(arr)\n",
    "    # n must be greater than k\n",
    "    if arraySize <= windowSize:\n",
    "        print(\"Invalid operation\")\n",
    "        return -1\n",
    "\n",
    "    # Compute sum of first window of size k\n",
    "    window_sum = sum([arr[i] for i in range(windowSize)])\n",
    "    max_sum = window_sum\n",
    "    # Compute sums of remaining windows by\n",
    "    # removing first element of previous\n",
    "    # window and adding last element of\n",
    "    # current window.\n",
    "    for i in range(arraySize-windowSize):\n",
    "        window_sum = window_sum - arr[i] + arr[i + windowSize]\n",
    "        max_sum = max(window_sum, max_sum)\n",
    "\n",
    "    return max_sum\n",
    "\n",
    "\n",
    "arr = [1, 2, 100, -1, 5]\n",
    "# maximum sum should be 104 => 100 + -1 + 5\n",
    "answer = maxSum(arr, 3)\n",
    "print(answer)"
   ]
  },
  {
   "cell_type": "markdown",
   "id": "f350f77b",
   "metadata": {},
   "source": [
    "# MOVE ZEROES TO END OF THE ARRAY "
   ]
  },
  {
   "cell_type": "code",
   "execution_count": 61,
   "id": "d89a873b",
   "metadata": {},
   "outputs": [
    {
     "name": "stdout",
     "output_type": "stream",
     "text": [
      "[1, 3, 12, 0, 0]\n"
     ]
    }
   ],
   "source": [
    "def moveZeroes(self, nums):\n",
    "    i = j = k =0\n",
    "    count=0\n",
    "    while i < len(nums):\n",
    "        if nums[i] == 0:\n",
    "            count+=1\n",
    "        i+=1\n",
    "    while j < count:\n",
    "        nums.remove(0)\n",
    "        j+=1\n",
    "    while k < count:\n",
    "        nums.append(0)\n",
    "        k+=1\n",
    "    return nums"
   ]
  },
  {
   "cell_type": "markdown",
   "id": "f7d3ba87",
   "metadata": {},
   "source": [
    "# how many boats required to move people with a limit"
   ]
  },
  {
   "cell_type": "code",
   "execution_count": 63,
   "id": "62a0f0d3",
   "metadata": {},
   "outputs": [],
   "source": [
    "def numRescueBoats(self, people,limit):\n",
    "    people.sort()\n",
    "    left = 0\n",
    "    right = len(people)-1\n",
    "    boats_number = 0\n",
    "    while left<=right:\n",
    "        if left==right:\n",
    "            boats_number+=1\n",
    "            break\n",
    "        if people[left]+people[right]<=limit:\n",
    "            left+=1\n",
    "        right-=1\n",
    "        boats_number+=1\n",
    "    return boats_number"
   ]
  },
  {
   "cell_type": "markdown",
   "id": "e59093a8",
   "metadata": {},
   "source": [
    "# Valid mountain array"
   ]
  },
  {
   "cell_type": "code",
   "execution_count": 72,
   "id": "8ee34fb7",
   "metadata": {},
   "outputs": [],
   "source": [
    "def mountain(arr):\n",
    "    i=1\n",
    "    while i<len(arr) and arr[i]>arr[i-1]:\n",
    "        i+=1\n",
    "    if i==1 or i==len(arr):\n",
    "        return False\n",
    "    while i<len(arr) and arr[i]<arr[i-1]:\n",
    "        i+=1\n",
    "    return i==len(arr)"
   ]
  },
  {
   "cell_type": "code",
   "execution_count": 74,
   "id": "b2572611",
   "metadata": {},
   "outputs": [
    {
     "name": "stdout",
     "output_type": "stream",
     "text": [
      "False\n"
     ]
    }
   ],
   "source": [
    "print(mountain([0,2,4,5,5,1]))"
   ]
  },
  {
   "cell_type": "markdown",
   "id": "2af379b0",
   "metadata": {},
   "source": [
    "## Container with most water "
   ]
  },
  {
   "cell_type": "code",
   "execution_count": 2,
   "id": "f6eff7b8",
   "metadata": {},
   "outputs": [
    {
     "name": "stdout",
     "output_type": "stream",
     "text": [
      "6\n"
     ]
    }
   ],
   "source": [
    "def max_area(height):\n",
    "    max_area = 0\n",
    "    l = 0\n",
    "    r = len(height)-1\n",
    "    while(l<r):\n",
    "        max_area = max(max_area, min(height[l],height[r])*(r-l))\n",
    "        if height[l]<height[r]:\n",
    "            l+=1\n",
    "        else:\n",
    "            r-=1\n",
    "    return max_area\n",
    "print(max_area([2,1,1,2]))"
   ]
  },
  {
   "cell_type": "markdown",
   "id": "293712f3",
   "metadata": {},
   "source": [
    "## longest substring without repeating"
   ]
  },
  {
   "cell_type": "code",
   "execution_count": 140,
   "id": "9a6ac5bf",
   "metadata": {},
   "outputs": [],
   "source": [
    "def lengthOfLongestSubstring(s: str) -> int:\n",
    "    m = {}\n",
    "    left = 0\n",
    "    right = 0\n",
    "    ans = 0\n",
    "    n = len(s)\n",
    "    while(left<n and right<n):\n",
    "        print('right is :',right)\n",
    "        el = s[right]\n",
    "        print(el)\n",
    "        if(el in m):\n",
    "            left = max(left,m[el]+1)\n",
    "            print('left is: ',left)\n",
    "        m[el] = right\n",
    "        ans = max(ans,right-left+1)\n",
    "        print('ans is', ans)\n",
    "        right+=1\n",
    "    return ans,m"
   ]
  },
  {
   "cell_type": "code",
   "execution_count": 141,
   "id": "09073e1f",
   "metadata": {},
   "outputs": [
    {
     "name": "stdout",
     "output_type": "stream",
     "text": [
      "right is : 0\n",
      "p\n",
      "ans is 1\n",
      "right is : 1\n",
      "w\n",
      "ans is 2\n",
      "right is : 2\n",
      "w\n",
      "left is:  2\n",
      "ans is 2\n",
      "right is : 3\n",
      "k\n",
      "ans is 2\n",
      "right is : 4\n",
      "e\n",
      "ans is 3\n",
      "right is : 5\n",
      "w\n",
      "left is:  3\n",
      "ans is 3\n",
      "(3, {'p': 0, 'w': 5, 'k': 3, 'e': 4})\n"
     ]
    }
   ],
   "source": [
    "print(lengthOfLongestSubstring(\"pwwkew\"))"
   ]
  },
  {
   "cell_type": "code",
   "execution_count": 59,
   "id": "a4344a90",
   "metadata": {},
   "outputs": [],
   "source": [
    "def find_last(func):\n",
    "    def wrapper(arr,target):\n",
    "        first_p = func(arr,target)\n",
    "        i = first_p\n",
    "        while i <len(arr)-1:\n",
    "            if arr[i]==arr[i+1]:\n",
    "                l_position = i+1\n",
    "            else:\n",
    "                break\n",
    "            i+=1\n",
    "        return first_p,l_position\n",
    "    return wrapper\n",
    "\n",
    "@find_last\n",
    "def find_first_last_position(arr,target):\n",
    "    first = 0\n",
    "    last = len(arr)-1\n",
    "    while first<=last:\n",
    "        mid = (first+last)//2\n",
    "        if arr[mid]==target:\n",
    "            if mid==0 or arr[mid-1]!=target:\n",
    "                return mid\n",
    "            else:\n",
    "                return mid-1\n",
    "        elif arr[mid]<target:\n",
    "            first = mid+1\n",
    "        else:\n",
    "            last = mid-1\n",
    "    return -1"
   ]
  },
  {
   "cell_type": "code",
   "execution_count": 61,
   "id": "8c8da10a",
   "metadata": {},
   "outputs": [
    {
     "data": {
      "text/plain": [
       "(3, 5)"
      ]
     },
     "execution_count": 61,
     "metadata": {},
     "output_type": "execute_result"
    }
   ],
   "source": [
    "find_first_last_position([1,2,3,3,3,3,4,5,9],3)"
   ]
  },
  {
   "cell_type": "code",
   "execution_count": 78,
   "id": "05bc5d43",
   "metadata": {},
   "outputs": [
    {
     "name": "stdout",
     "output_type": "stream",
     "text": [
      "8\n"
     ]
    }
   ],
   "source": [
    "arr = [9,6,4,2,3,5,7,0,1]\n",
    "arr.sort()\n",
    "n = len(arr)\n",
    "arr1 = list(range(arr[0],n+1))\n",
    "for i,j in zip(arr1,arr):\n",
    "    if i != j:\n",
    "        print(i)"
   ]
  },
  {
   "cell_type": "code",
   "execution_count": null,
   "id": "d660ac28",
   "metadata": {},
   "outputs": [],
   "source": []
  }
 ],
 "metadata": {
  "kernelspec": {
   "display_name": "Python 3",
   "language": "python",
   "name": "python3"
  },
  "language_info": {
   "codemirror_mode": {
    "name": "ipython",
    "version": 3
   },
   "file_extension": ".py",
   "mimetype": "text/x-python",
   "name": "python",
   "nbconvert_exporter": "python",
   "pygments_lexer": "ipython3",
   "version": "3.8.8"
  }
 },
 "nbformat": 4,
 "nbformat_minor": 5
}
